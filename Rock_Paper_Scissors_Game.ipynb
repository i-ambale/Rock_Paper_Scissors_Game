{
 "cells": [
  {
   "cell_type": "markdown",
   "metadata": {},
   "source": [
    "# Rock Paper Scissors Game\n",
    "\n",
    "#### Things You Should Know\n",
    "\n",
    "1. Rock beats Scissors.\n",
    "2. Scissors beat Paper \n",
    "3. Paper beats Rock"
   ]
  },
  {
   "cell_type": "markdown",
   "metadata": {},
   "source": [
    "- 0 for Rock\n",
    "- 1 for Paper\n",
    "- 2 for Scissor "
   ]
  },
  {
   "cell_type": "markdown",
   "metadata": {},
   "source": [
    "### Possible Outcomes\n",
    "\n",
    "User versus Computer choices\n",
    "- 0 :  0  Draw\n",
    "- 0 : 1 Comp wins\n",
    "- 0 : 2 User wins\n",
    "- 1 : 0 User wins\n",
    "- 1 : 1 Draw\n",
    "- 1 : 2 Comp wins\n",
    "- 2 : 0 Comp wins\n",
    "- 2 : 1 User wins\n",
    "- 2 : 2 Draw"
   ]
  },
  {
   "cell_type": "code",
   "execution_count": 2,
   "metadata": {},
   "outputs": [],
   "source": [
    "# import random\n",
    "import random"
   ]
  },
  {
   "cell_type": "code",
   "execution_count": 29,
   "metadata": {},
   "outputs": [
    {
     "name": "stdout",
     "output_type": "stream",
     "text": [
      "Computer Chose:\n",
      "2\n",
      "You Win\n"
     ]
    }
   ],
   "source": [
    "user_choice = int(input(\"Enter your choice: Type 0 for Rock, 1 for Paper, 2 for Scissors.\"))\n",
    "comp_choice = random.randint(0,2)\n",
    "print(\"Computer Chose:\")\n",
    "print(comp_choice)\n",
    "\n",
    "if user_choice == comp_choice:\n",
    "    print(\"Draw\")\n",
    "elif comp_choice == 0 and user_choice == 2:\n",
    "    print(\"You Lose\")\n",
    "elif user_choice == 0 and comp_choice == 2:\n",
    "    print(\"You Win\")\n",
    "elif comp_choice > user_choice:\n",
    "    print(\"You Lose\")\n",
    "elif user_choice > comp_choice:\n",
    "    print(\"You Win\")\n"
   ]
  }
 ],
 "metadata": {
  "kernelspec": {
   "display_name": "DS_Python",
   "language": "python",
   "name": "python3"
  },
  "language_info": {
   "codemirror_mode": {
    "name": "ipython",
    "version": 3
   },
   "file_extension": ".py",
   "mimetype": "text/x-python",
   "name": "python",
   "nbconvert_exporter": "python",
   "pygments_lexer": "ipython3",
   "version": "3.11.7"
  }
 },
 "nbformat": 4,
 "nbformat_minor": 2
}
